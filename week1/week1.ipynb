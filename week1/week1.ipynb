{
 "cells": [
  {
   "cell_type": "code",
   "execution_count": 31,
   "metadata": {},
   "outputs": [
    {
     "name": "stderr",
     "output_type": "stream",
     "text": [
      "[nltk_data] Downloading package wordnet to /Users/solo/nltk_data...\n",
      "[nltk_data]   Package wordnet is already up-to-date!\n"
     ]
    }
   ],
   "source": [
    "import json\n",
    "import jsonpath\n",
    "import jieba\n",
    "from collections import Counter\n",
    "import nltk\n",
    "from nltk.stem.wordnet import WordNetLemmatizer\n",
    "nltk.download('wordnet')"
   ]
  },
  {
   "cell_type": "code",
   "execution_count": 32,
   "metadata": {},
   "outputs": [],
   "source": [
    "# 从json文件转换为字典\n",
    "def get_json_to_dict(path):\n",
    "    with open(path,'r') as f:\n",
    "        content_str = f.read()\n",
    "        content_dict = json.loads(content_str)\n",
    "    return content_dict\n",
    "\n",
    "# (counter类)排序后写入到文件中\n",
    "def to_file(path_name,content):\n",
    "    text = ''\n",
    "    for tuple_pair in content:\n",
    "        string,counter = tuple_pair\n",
    "        text += string + ' ' + str(counter) + '\\n'\n",
    "    with open(path_name,'w') as f:\n",
    "        f.write(text)\n",
    "\n",
    "# 获取json文件指定到key中到所有value,返回一个list\n",
    "def get_json_value(json_data,key_name):\n",
    "    key_value = jsonpath.jsonpath(json_data, '$..{key_name}'.format(key_name=key_name))   \n",
    "    return key_value\n",
    "\n",
    "# (中文)输入句子列表,输出分词结果\n",
    "def cn_cut_sentences_list(sentences_list):\n",
    "    word_list = []\n",
    "    for sentence in sentences_list:\n",
    "        sentence_word_list = jieba.lcut(sentence, cut_all=False)\n",
    "        word_list.extend(sentence_word_list)\n",
    "    return word_list\n",
    "\n",
    "\n",
    "# (英文)输入句子列表,输出分词结果.过程做了stemming\n",
    "def en_cut_sentences_list(sentences_list):\n",
    "    word_list = []\n",
    "    lemmatizer = WordNetLemmatizer()\n",
    "    for sentence in sentences_list:\n",
    "        sentence_word_list = nltk.word_tokenize(sentence)\n",
    "        stemed_word_list = [lemmatizer.lemmatize(word.lower()) for word in sentence_word_list ]\n",
    "        word_list.extend(stemed_word_list)\n",
    "    return word_list\n",
    "\n",
    "# du_reader数据处理\n",
    "def du_reader_process(path):\n",
    "    du_reader_dict = get_json_to_dict(path)\n",
    "    du_reader_context = get_json_value(du_reader_dict,'context')\n",
    "    du_reader_question = get_json_value(du_reader_dict,'question')\n",
    "    \n",
    "    context_word_list = cn_cut_sentences_list(du_reader_context)\n",
    "    context_word_freq = Counter(context_word_list).most_common()\n",
    "    to_file('du_reader_context.txt',context_word_freq)\n",
    "\n",
    "# squad 数据处理\n",
    "def squad_process(path):\n",
    "    squad_dict = get_json_to_dict(path)\n",
    "    squad_context = get_json_value(squad_dict,'context')\n",
    "    \n",
    "    context_word_list = en_cut_sentences_list(squad_context)\n",
    "    context_word_freq = Counter(context_word_list).most_common()\n",
    "    to_file('squad_context.txt',context_word_freq)"
   ]
  },
  {
   "cell_type": "code",
   "execution_count": 33,
   "metadata": {},
   "outputs": [],
   "source": [
    "# 获取json到字典中\n",
    "du_reader_json_path = r'/Users/solo/学习/nlp学习/基于大规模预训练模型的机器阅读理解/week1/datas/demo/demo_dev.json'\n",
    "squad_json_path = r'/Users/solo/学习/nlp学习/基于大规模预训练模型的机器阅读理解/week1/datas/train-v2.0.json'"
   ]
  },
  {
   "cell_type": "code",
   "execution_count": 34,
   "metadata": {
    "scrolled": true
   },
   "outputs": [],
   "source": [
    "du_reader_process(du_reader_json_path)\n",
    "squad_process(squad_json_path)"
   ]
  }
 ],
 "metadata": {
  "kernelspec": {
   "display_name": "Python 3",
   "language": "python",
   "name": "python3"
  },
  "language_info": {
   "codemirror_mode": {
    "name": "ipython",
    "version": 3
   },
   "file_extension": ".py",
   "mimetype": "text/x-python",
   "name": "python",
   "nbconvert_exporter": "python",
   "pygments_lexer": "ipython3",
   "version": "3.7.2"
  },
  "toc": {
   "base_numbering": 1.0,
   "nav_menu": {},
   "number_sections": true,
   "sideBar": true,
   "skip_h1_title": false,
   "title_cell": "Table of Contents",
   "title_sidebar": "Contents",
   "toc_cell": false,
   "toc_position": {},
   "toc_section_display": true,
   "toc_window_display": false
  }
 },
 "nbformat": 4,
 "nbformat_minor": 2
}
